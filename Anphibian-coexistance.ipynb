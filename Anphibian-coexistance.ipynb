{
 "cells": [
  {
   "cell_type": "markdown",
   "metadata": {},
   "source": [
    "# Amphibian Co-existance problem\n",
    "A zoo biologist will place three species of amphibians (a toad, a salamander, and a caecilian) in an aquarium where they will feed on three different small preys: worms, crickets, and flies. Each day 1,500 worms, 3,000 crickets, and 5,500 flies will be placed in the aquarium. Each amphibian consumes a certain number of prey per day. Table 1-2 summarizes the relevant data.\n",
    "\n",
    "<b>*Table 1-2*</b>"
   ]
  },
  {
   "cell_type": "markdown",
   "metadata": {},
   "source": [
    "<table>\n",
    "    <tr>\n",
    "        <td>**Food**</td><td>**Toad**</td><td>**Salamander**</td><td>**Caecilian**</td><td>**Available**</td> \n",
    "    </tr>\n",
    "    <tr>\n",
    "        <td>worms</td><td>2</td><td>1</td><td>1</td><td>1500</td>  \n",
    "    </tr>\n",
    "    <tr>\n",
    "        <td>Crickets</td><td>1</td><td>3</td><td>2</td><td>3000</td>  \n",
    "    </tr>\n",
    "    <tr>\n",
    "        <td>Flies</td><td>1</td><td>2</td><td>3</td><td>5000</td>  \n",
    "    </tr>\n",
    "</table>"
   ]
  },
  {
   "cell_type": "markdown",
   "metadata": {},
   "source": [
    "The biologist wants to know how many amphibians, up to 1,000 of each species, can coexist in the aquarium assuming that food is the only relevant constraint.\n",
    "\n",
    "Now considering worms being eaten. The toads eat two per day. The salamanders and caecilians each eat one. Since we decided on decision variables with $x_0$ being toads, $x_1$ salamanders, and $x_2$ caecilians, the total number of worms consumed will be bounded by the following inequality:  \n",
    "$\\hspace{2cm} 2x_{0} + x_1 + x_2 ≤ 1500$  "
   ]
  },
  {
   "cell_type": "markdown",
   "metadata": {},
   "source": [
    "Now considering crickets:  \n",
    "$\\hspace{2cm} x_0 + 3x_1 + 2x_2 ≤ 3000$  \n",
    "  \n",
    "And flies:  \n",
    "$\\hspace{2cm} x_0 + 2x_1 + 3x_2 ≤ 5000$  "
   ]
  },
  {
   "cell_type": "markdown",
   "metadata": {},
   "source": [
    "Keeping close watch on the language being used, it's clear that we only need to work out a number **up to** 1,000 of all of the species hence the inequality shown above. Otherwise we would replace '$≤$' by '$=$'.  \n",
    "  \n",
    "This does however mean that we could solve th following inequality by setting all of the variables to 0 but this would be very impractical and unexciting so instead we're going to further describe the objective:  \n",
    "$\\hspace{2cm}$ *max* $x_0 + x_1 + x_2$\n",
    "\n",
    "Now we've clearly definied the problem as an optimization problem and hence model above where we want to maximise each of the variables in such a ratio as to maximise the number of predatory amphibian species. "
   ]
  },
  {
   "cell_type": "code",
   "execution_count": 4,
   "metadata": {},
   "outputs": [
    {
     "ename": "ImportError",
     "evalue": "No module named ortools.linear_solver",
     "output_type": "error",
     "traceback": [
      "\u001b[0;31m---------------------------------------------------------------------------\u001b[0m",
      "\u001b[0;31mImportError\u001b[0m                               Traceback (most recent call last)",
      "\u001b[0;32m<ipython-input-4-158de8da76ab>\u001b[0m in \u001b[0;36m<module>\u001b[0;34m()\u001b[0m\n\u001b[1;32m      1\u001b[0m \u001b[0;31m# Our package which uses symbolic processing to solve expressions\u001b[0m\u001b[0;34m\u001b[0m\u001b[0;34m\u001b[0m\u001b[0m\n\u001b[0;32m----> 2\u001b[0;31m \u001b[0;32mfrom\u001b[0m \u001b[0mortools\u001b[0m\u001b[0;34m.\u001b[0m\u001b[0mlinear_solver\u001b[0m \u001b[0;32mimport\u001b[0m \u001b[0mpywraplp\u001b[0m\u001b[0;34m\u001b[0m\u001b[0m\n\u001b[0m\u001b[1;32m      3\u001b[0m \u001b[0;32mdef\u001b[0m \u001b[0msolve_coexistance\u001b[0m\u001b[0;34m(\u001b[0m\u001b[0;34m)\u001b[0m\u001b[0;34m:\u001b[0m\u001b[0;34m\u001b[0m\u001b[0m\n\u001b[1;32m      4\u001b[0m     \u001b[0mproblem_name\u001b[0m \u001b[0;34m=\u001b[0m \u001b[0;34m'Amphibian coexistence'\u001b[0m\u001b[0;34m\u001b[0m\u001b[0m\n\u001b[1;32m      5\u001b[0m     \u001b[0mproblem_type\u001b[0m \u001b[0;34m=\u001b[0m \u001b[0mpywraplp\u001b[0m\u001b[0;34m.\u001b[0m\u001b[0mSolver\u001b[0m\u001b[0;34m.\u001b[0m\u001b[0mGLOP_LINEAR_PROGRAMMING\u001b[0m\u001b[0;34m\u001b[0m\u001b[0m\n",
      "\u001b[0;31mImportError\u001b[0m: No module named ortools.linear_solver"
     ]
    }
   ],
   "source": [
    "# Our package which uses symbolic processing to solve expressions\n",
    "from ortools.linear_solver import pywraplp\n",
    "def solve_coexistance():\n",
    "    problem_name = 'Amphibian coexistence'\n",
    "    problem_type = pywraplp.Solver.GLOP_LINEAR_PROGRAMMING\n",
    "    \n",
    "    # Creating the linear problem solver\n",
    "    solver = pywraplp.Solver(problem_name, problem_type)\n",
    "    lower_bound = 0\n",
    "    upper_bound = 1000"
   ]
  },
  {
   "cell_type": "markdown",
   "metadata": {},
   "source": [
    "We create a one-dimensional array x of three decision variables that can take on values between 0 and 1000. The lower bound is a physical constraint since we cannot have a negative number of amphibians. \n",
    "\n",
    "The upper bound is part of the problem statement as the biologist will not put more than 1,000 of each species in the test tube"
   ]
  },
  {
   "cell_type": "code",
   "execution_count": null,
   "metadata": {},
   "outputs": [],
   "source": [
    "decision_vars = [solver.NumVar(lower_bound, upper_bound, name='x[%i]' % i)\n",
    "                        for i in range(3)] #  Output: [x[0], x[1], x[2]]"
   ]
  }
 ],
 "metadata": {
  "kernelspec": {
   "display_name": "Python 2",
   "language": "python",
   "name": "python2"
  },
  "language_info": {
   "codemirror_mode": {
    "name": "ipython",
    "version": 2
   },
   "file_extension": ".py",
   "mimetype": "text/x-python",
   "name": "python",
   "nbconvert_exporter": "python",
   "pygments_lexer": "ipython2",
   "version": "2.7.15"
  }
 },
 "nbformat": 4,
 "nbformat_minor": 2
}
