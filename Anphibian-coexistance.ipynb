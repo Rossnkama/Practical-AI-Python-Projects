{
 "cells": [
  {
   "cell_type": "markdown",
   "metadata": {},
   "source": [
    "# Amphibian Co-existance problem\n",
    "A zoo biologist will place three species of amphibians (a toad, a salamander, and a caecilian) in an aquarium where they will feed on three different small preys: worms, crickets, and flies. Each day 1,500 worms, 3,000 crickets, and 5,500 flies will be placed in the aquarium. Each amphibian consumes a certain number of preys per day. Table 1-2 summarizes the relevant data.\n",
    "\n",
    "<b>*Table 1-2*</b>"
   ]
  },
  {
   "cell_type": "markdown",
   "metadata": {},
   "source": [
    "<table>\n",
    "    <tr>\n",
    "        <td>**Food**</td><td>**Toad**</td><td>**Salamander**</td><td>**Caecilian**</td><td>**Available**</td> \n",
    "    </tr>\n",
    "    <tr>\n",
    "        <td>worms</td><td>2</td><td>1</td><td>1</td><td>1500</td>  \n",
    "    </tr>\n",
    "    <tr>\n",
    "        <td>Crickets</td><td>1</td><td>3</td><td>2</td><td>3000</td>  \n",
    "    </tr>\n",
    "    <tr>\n",
    "        <td>Flies</td><td>1</td><td>2</td><td>3</td><td>5000</td>  \n",
    "    </tr>\n",
    "</table>"
   ]
  },
  {
   "cell_type": "markdown",
   "metadata": {},
   "source": [
    "The biologist wants to know how many amphibians, up to 1,000 of each species, can coexist in the aquarium assuming that food is the only relevant constraint.\n",
    "\n",
    "Keeping close watch on the language being used, "
   ]
  }
 ],
 "metadata": {
  "kernelspec": {
   "display_name": "Python 2",
   "language": "python",
   "name": "python2"
  },
  "language_info": {
   "codemirror_mode": {
    "name": "ipython",
    "version": 2
   },
   "file_extension": ".py",
   "mimetype": "text/x-python",
   "name": "python",
   "nbconvert_exporter": "python",
   "pygments_lexer": "ipython2",
   "version": "2.7.15"
  }
 },
 "nbformat": 4,
 "nbformat_minor": 2
}
