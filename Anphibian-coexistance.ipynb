{
 "cells": [
  {
   "cell_type": "markdown",
   "metadata": {},
   "source": [
    "# Amphibian Co-existance problem\n",
    "A zoo biologist will place three species of amphibians (a toad, a salamander, and a caecilian) in an aquarium where they will feed on three different small preys: worms, crickets, and flies. Each day 1,500 worms, 3,000 crickets, and 5,500 flies will be placed in the aquarium. Each amphibian consumes a certain number of prey per day. Table 1-2 summarizes the relevant data.\n",
    "\n",
    "***Table 1-2***"
   ]
  },
  {
   "cell_type": "markdown",
   "metadata": {},
   "source": [
    "| Food     | Toad | Salamander | Caecilian | Available |\n",
    "|----------|------|------------|-----------|-----------|\n",
    "| Worms    | 2    | 1          | 1         | 1500      |\n",
    "| Crickets | 1    | 3          | 2         | 3000      |\n",
    "| Flies    | 1    | 2          | 3         | 5000      |"
   ]
  },
  {
   "cell_type": "markdown",
   "metadata": {},
   "source": [
    "The biologist wants to know how many amphibians, up to 1,000 of each species, can coexist in the aquarium assuming that food is the only relevant constraint.\n",
    "\n",
    "Now considering worms being eaten. The toads eat two per day. The salamanders and caecilians each eat one. Since we decided on decision variables with $x_0$ being toads, $x_1$ salamanders, and $x_2$ caecilians, the total number of worms consumed will be bounded by the following inequality:  \n",
    "$\\hspace{2cm} 2x_{0} + x_1 + x_2 \\leq 1500$  "
   ]
  },
  {
   "cell_type": "markdown",
   "metadata": {},
   "source": [
    "Now considering crickets:  \n",
    "$\\hspace{2cm} x_0 + 3x_1 + 2x_2 \\leq 3000$  \n",
    "  \n",
    "And flies:  \n",
    "$\\hspace{2cm} x_0 + 2x_1 + 3x_2 \\leq 5000$  "
   ]
  },
  {
   "cell_type": "markdown",
   "metadata": {},
   "source": [
    "Keeping close watch on the language being used, it's clear that we only need to work out a number **up to** 1,000 of all of the species hence the inequality shown above. Otherwise we would replace '$\\leq$' by '$=$'.  \n",
    "  \n",
    "This does however mean that we could solve th following inequality by setting all of the variables to 0 but this would be very impractical and unexciting so instead we're going to further describe the objective:  \n",
    "$\\hspace{2cm}$ *max* $x_0 + x_1 + x_2$\n",
    "\n",
    "Now we've clearly definied the problem as an optimization problem and hence model above where we want to maximise each of the variables in such a ratio as to maximise the number of predatory amphibian species. "
   ]
  },
  {
   "cell_type": "code",
   "execution_count": null,
   "metadata": {},
   "outputs": [],
   "source": [
    "# Our package which uses symbolic processing to solve expressions\n",
    "from ortools.linear_solver import pywraplp\n",
    "def solve_coexistance():\n",
    "    problem_name = 'Amphibian coexistence'\n",
    "    problem_type = pywraplp.Solver.GLOP_LINEAR_PROGRAMMING\n",
    "    \n",
    "    # Creating the linear problem solver\n",
    "    solver = pywraplp.Solver(problem_name, problem_type)\n",
    "    lower_bound = 0\n",
    "    upper_bound = 1000"
   ]
  },
  {
   "cell_type": "markdown",
   "metadata": {},
   "source": [
    "We create a one-dimensional array x of three decision variables that can take on values between 0 and 1000. The lower bound is a physical constraint since we cannot have a negative number of amphibians. \n",
    "\n",
    "The upper bound is part of the problem statement as the biologist will not put more than 1,000 of each species in the test tube"
   ]
  },
  {
   "cell_type": "code",
   "execution_count": null,
   "metadata": {},
   "outputs": [],
   "source": [
    "    decision_vars = [solver.NumVar(lower_bound, upper_bound, name='x[%i]' % i)\n",
    "                            for i in range(3)] #  Output: [x[0], x[1], x[2]]"
   ]
  },
  {
   "cell_type": "code",
   "execution_count": null,
   "metadata": {},
   "outputs": [],
   "source": [
    "    pop = solver.NumVar(0, 3000, 'pop') #  Auxillary variable (sum of decision variables)"
   ]
  },
  {
   "cell_type": "markdown",
   "metadata": {},
   "source": [
    "Instead of creating the pop variable, we could have also later used:  \n",
    "<code>solver.Maximize(x[0]+x[1]+x[2])</code>  \n",
    "    \n",
    "instead of:  \n",
    "<code>solver.Maximize(pop)</code>   \n",
    "  \n",
    "Direct translations of the earlier defined expressions above:"
   ]
  },
  {
   "cell_type": "code",
   "execution_count": null,
   "metadata": {},
   "outputs": [],
   "source": [
    "    solver.Add(2*x[0] + x[1] + x[2] <= 1500)\n",
    "    solver.Add(x[0] + 3*x[1] + 2*x[2] <= 3000)\n",
    "    solver.Add(x[0] + 3*x[1] + 2*x[2] <= 3000)\n",
    "    solver.Add(pop == x[0] + x[1] + x[2])"
   ]
  },
  {
   "cell_type": "markdown",
   "metadata": {},
   "source": [
    "The library using underlying theory of “simplex method” and “interior-point methods” to solve for the optimisation problem:"
   ]
  },
  {
   "cell_type": "code",
   "execution_count": null,
   "metadata": {},
   "outputs": [],
   "source": [
    "    solver.Solve()\n",
    "    return pop.SolutionValue(), [var.SolutionValue for var in decision_vars]"
   ]
  }
 ],
 "metadata": {
  "kernelspec": {
   "display_name": "Python 2",
   "language": "python",
   "name": "python2"
  },
  "language_info": {
   "codemirror_mode": {
    "name": "ipython",
    "version": 2
   },
   "file_extension": ".py",
   "mimetype": "text/x-python",
   "name": "python",
   "nbconvert_exporter": "python",
   "pygments_lexer": "ipython2",
   "version": "2.7.15"
  }
 },
 "nbformat": 4,
 "nbformat_minor": 2
}
